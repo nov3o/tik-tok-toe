{
 "cells": [
  {
   "cell_type": "markdown",
   "id": "b879e75d",
   "metadata": {},
   "source": [
    "# Q-learning"
   ]
  },
  {
   "cell_type": "code",
   "execution_count": 75,
   "id": "ce11da30",
   "metadata": {},
   "outputs": [],
   "source": [
    "import random\n",
    "import numpy as np\n",
    "import matplotlib.pyplot as plt\n",
    "\n",
    "from tic_env import TictactoeEnv, OptimalPlayer"
   ]
  },
  {
   "cell_type": "code",
   "execution_count": 63,
   "id": "164e57d2",
   "metadata": {},
   "outputs": [],
   "source": [
    "st2int = lambda st: int(((st.flatten() + 1) * (3**np.arange(9))).sum())\n",
    "\n",
    "# https://xkcd.com/832/\n",
    "class Player:\n",
    "    def __init__(self, learning_rate, discount_factor, exp_rate):\n",
    "        self.states = []\n",
    "        self.states_value = {}  # state -> value\n",
    "        self.lr = learning_rate\n",
    "        self.decay_gamma = discount_factor\n",
    "        self.exp_rate = exp_rate\n",
    "        self.exp = 0\n",
    "        self.env = TictactoeEnv()\n",
    "                \n",
    "    def act(self, grid, symbol, eps):\n",
    "        assert symbol in ['X', 'O']\n",
    "        \n",
    "        if np.random.uniform(0, 1) <= eps:\n",
    "            action = self.random_move(grid)\n",
    "        else:\n",
    "            positions = self.available_positions(grid)\n",
    "            value_max = -999\n",
    "            num_symb = 1 if symbol == 'X' else -1\n",
    "            for p in positions:\n",
    "                next_board = grid.copy()\n",
    "                next_board[p] = num_symb\n",
    "                state_key = st2int(next_board)\n",
    "                value = 0 if self.states_value.get(state_key) is None else self.states_value[state_key]\n",
    "                if value >= value_max:\n",
    "                    value_max = value\n",
    "                    action = p\n",
    "        return action\n",
    "    \n",
    "    def random_move(self, grid):\n",
    "        \"\"\" Chose a random move from the available options. \"\"\"\n",
    "        return random.choice(self.available_positions(grid))\n",
    "         \n",
    "    def available_positions(self, grid): #nommé empty dans env\n",
    "        '''return all empty positions'''\n",
    "        return [(i // 3, i % 3) for i in range(9) if not grid[(i // 3, i % 3)]]\n",
    "    \n",
    "    def update_qtable(self, states, reward):\n",
    "        for state in reversed(self.states):\n",
    "            if self.states_value.get(state) is None:\n",
    "                self.states_value[state] = 0\n",
    "            self.states_value[state] += self.lr*(self.decay_gamma*reward - self.states_value[state])\n",
    "            reward = self.states_value[state]\n",
    "            \n",
    "    def add_state(self, state):\n",
    "        self.states.append(st2int(state))\n",
    "            \n",
    "    def train(self, N, epsilon=0):\n",
    "        Turns = np.array(['X','O'])\n",
    "        total_reward = 0\n",
    "        for i in range(1, N+1):\n",
    "            self.exp += 1\n",
    "            self.env.reset()\n",
    "            grid, _, __ = self.env.observe()\n",
    "            Turns = Turns[::-1]\n",
    "            player_opt = OptimalPlayer(epsilon, player=Turns[0])\n",
    "                \n",
    "            end = 0  # to run first iteration\n",
    "            while not end:\n",
    "                if self.env.current_player == player_opt.player:\n",
    "                    move = player_opt.act(grid)\n",
    "                else:\n",
    "                    move = self.act(grid, Turns[1], self.exp_rate)\n",
    "\n",
    "                grid, end, winner = self.env.step(move, print_grid=False)\n",
    "                self.add_state(self.env.grid.reshape(9))\n",
    "            \n",
    "            reward = self.env.reward(Turns[1])\n",
    "            total_reward += reward\n",
    "            self.update_qtable(self.states, reward)\n",
    "        return total_reward \n",
    "                    \n",
    "    def test_policy(self, N_test, epsilon=0.):\n",
    "        Turns = np.array(['X','O'])\n",
    "        n_wins = 0\n",
    "        n_loss = 0\n",
    "        \n",
    "        for i in range(N_test):\n",
    "            self.env.reset()\n",
    "            grid, _, __ = self.env.observe()\n",
    "            Turns = Turns[::-1]\n",
    "            player_opt = OptimalPlayer(epsilon, player=Turns[0])\n",
    "                \n",
    "            for j in range(9):\n",
    "                if self.env.current_player == player_opt.player:\n",
    "                    move = player_opt.act(grid)\n",
    "                else:\n",
    "                    move = self.act(grid, Turns[1], 0)\n",
    "\n",
    "                grid, end, winner = self.env.step(move, print_grid=False)\n",
    "            \n",
    "                if end:\n",
    "                    if winner == Turns[1]:\n",
    "                        n_wins +=1\n",
    "                    if winner == Turns[0]:\n",
    "                        n_loss +=1\n",
    "                    self.env.reset()\n",
    "#                     print(\"Your win is \", winner == Turns[1])\n",
    "                    break\n",
    "                    \n",
    "        return (n_wins-n_loss)/N_test"
   ]
  },
  {
   "cell_type": "code",
   "execution_count": 61,
   "id": "40252edd",
   "metadata": {},
   "outputs": [],
   "source": [
    "#TRAIN PARAMETERS\n",
    "learning_rate = 0.05\n",
    "discount_factor = 0.99\n",
    "expl_level = 0.5\n",
    "optimal_eps_train = 0.5\n",
    "\n",
    "my_player = Player(learning_rate, discount_factor, expl_level)"
   ]
  },
  {
   "cell_type": "code",
   "execution_count": 58,
   "id": "69c99d0d",
   "metadata": {},
   "outputs": [
    {
     "name": "stdout",
     "output_type": "stream",
     "text": [
      "-0.178\n"
     ]
    }
   ],
   "source": [
    "#TEST\n",
    "optimal_eps_test = 0\n",
    "games_to_test = 500\n",
    "M = my_player.test_policy(games_to_test, optimal_eps_test)\n",
    "print(M)"
   ]
  },
  {
   "cell_type": "markdown",
   "id": "08f51443",
   "metadata": {},
   "source": [
    "##  Learning from experts"
   ]
  },
  {
   "cell_type": "markdown",
   "id": "73709913",
   "metadata": {},
   "source": [
    "**Question 1**. Plot average reward for every 250 games during training – i.e. after the 50th game, plot\n",
    "the average reward of the first 250 games, after the 100th game, plot the average reward of games 51 to\n",
    "100, etc. Does the agent learn to play Tic Tac Toe? \\\n",
    "*Expected answer*: A figure of average reward over time (caption length < 50 words). Specify your choice\n",
    "of $\\epsilon$."
   ]
  },
  {
   "cell_type": "code",
   "execution_count": 81,
   "id": "22decc46",
   "metadata": {},
   "outputs": [],
   "source": [
    "learning_rate = 0.05\n",
    "discount_factor = 0.99\n",
    "my_exp_rate = 0.5\n",
    "opponent_exp_rate = 0.5\n",
    "\n",
    "my_player = Player(learning_rate, discount_factor, my_exp_rate)"
   ]
  },
  {
   "cell_type": "code",
   "execution_count": 97,
   "id": "f7dcba80",
   "metadata": {},
   "outputs": [
    {
     "name": "stdout",
     "output_type": "stream",
     "text": [
      "250 -0.48 [-0.36, -0.7, -0.44, -0.4, -0.5]\n",
      "500 -0.5 [-0.42, -0.64, -0.38, -0.54, -0.52]\n",
      "750 -0.388 [-0.28, -0.46, -0.46, -0.22, -0.52]\n",
      "1000 -0.436 [-0.5, -0.56, -0.28, -0.46, -0.38]\n"
     ]
    }
   ],
   "source": [
    "avgs = []\n",
    "opponent_exp_rate = 0.5\n",
    "N = 1000\n",
    "avg_every = 250\n",
    "batch_sz = 50\n",
    "for i in range(1, N // avg_every + 1):\n",
    "    batch = [my_player.train(batch_sz, opponent_exp_rate) for _ in range(avg_every // batch_sz)]\n",
    "    avgs.append(1.*sum(batch) / len(batch))\n",
    "    print(f\"Ep: {avg_every*i}, avg: {round(avgs[-1], 3)}, {batch}\")"
   ]
  },
  {
   "cell_type": "code",
   "execution_count": 98,
   "id": "c0e986ab",
   "metadata": {},
   "outputs": [
    {
     "data": {
      "image/png": "[encoded data removed]",
      "text/plain": [
       "<Figure size 432x288 with 1 Axes>"
      ]
     },
     "metadata": {
      "needs_background": "light"
     },
     "output_type": "display_data"
    }
   ],
   "source": [
    "plt.plot((np.arange(len(avgs))+1)*avg_every, avgs)\n",
    "plt.title('Average score progression over games')\n",
    "plt.xlabel(\"Number of games\")\n",
    "plt.ylabel(\"Average reward\")\n",
    "plt.show()"
   ]
  },
  {
   "cell_type": "markdown",
   "id": "91f33a43",
   "metadata": {},
   "source": [
    "The used exploration rate is $\\epsilon=0.5$ because it should half of games explore and half of games play best strategy"
   ]
  },
  {
   "cell_type": "markdown",
   "id": "ccef2ba3",
   "metadata": {},
   "source": [
    "###  Decreasing exploration"
   ]
  },
  {
   "cell_type": "markdown",
   "id": "ea7d06c7",
   "metadata": {},
   "source": [
    "###  Good experts and bad experts"
   ]
  },
  {
   "cell_type": "markdown",
   "id": "d7fa711b",
   "metadata": {},
   "source": [
    "##  Learning by self-practice"
   ]
  },
  {
   "cell_type": "markdown",
   "id": "e763f84d",
   "metadata": {},
   "source": [
    "#  Deep Q-Learning"
   ]
  },
  {
   "cell_type": "code",
   "execution_count": 47,
   "id": "5ff35855",
   "metadata": {},
   "outputs": [],
   "source": [
    "import numpy as np\n",
    "import torch\n",
    "import torch.nn as nn\n",
    "import torch.nn.functional as F\n",
    "from torch.utils.data import DataLoader\n",
    "from torchvision.datasets import MNIST\n",
    "from torchvision.transforms import ToTensor\n",
    "\n",
    "\n",
    "class DQLNN(nn.Module):\n",
    "    \"\"\" DQLNN, expects input shape (3, 3, 2) \"\"\"\n",
    "    def __init__(self):\n",
    "        super(DQLNN, self).__init__()\n",
    "\n",
    "        self.fc1 = nn.Linear(3*3*2, 128)\n",
    "        self.fc2 = nn.Linear(128, 128)\n",
    "        self.fc3 = nn.Linear(128, 9)\n",
    "        \n",
    "    def forward(self, x):\n",
    "        return self.fc3(F.relu(self.fc2(F.relu(self.fc1(x.flatten())))))\n",
    "    \n",
    "model_dql = DQLNN()"
   ]
  },
  {
   "cell_type": "code",
   "execution_count": null,
   "id": "0c741c24",
   "metadata": {},
   "outputs": [],
   "source": [
    "# Player reinitializing"
   ]
  },
  {
   "cell_type": "markdown",
   "id": "932a66cd",
   "metadata": {},
   "source": [
    "## Learning from experts"
   ]
  },
  {
   "cell_type": "markdown",
   "id": "f2fc32ed",
   "metadata": {},
   "source": [
    "##      Learning by self-practice"
   ]
  },
  {
   "cell_type": "markdown",
   "id": "a9f326e3",
   "metadata": {},
   "source": [
    "# Comparing Q-Learning with Deep Q-Learning"
   ]
  },
  {
   "cell_type": "markdown",
   "id": "6168c94e",
   "metadata": {},
   "source": [
    "I expect DQL working better than QL"
   ]
  }
 ],
 "metadata": {
  "kernelspec": {
   "display_name": "Python 3 (ipykernel)",
   "language": "python",
   "name": "python3"
  },
  "language_info": {
   "codemirror_mode": {
    "name": "ipython",
    "version": 3
   },
   "file_extension": ".py",
   "mimetype": "text/x-python",
   "name": "python",
   "nbconvert_exporter": "python",
   "pygments_lexer": "ipython3",
   "version": "3.10.4"
  }
 },
 "nbformat": 4,
 "nbformat_minor": 5
}
