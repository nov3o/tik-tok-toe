{
 "cells": [
  {
   "cell_type": "code",
   "execution_count": 1,
   "id": "6dd00a2f",
   "metadata": {},
   "outputs": [],
   "source": [
    "import numpy as np\n",
    "from tic_env import TictactoeEnv, OptimalPlayer"
   ]
  },
  {
   "cell_type": "code",
   "execution_count": 2,
   "id": "d9533777",
   "metadata": {},
   "outputs": [],
   "source": [
    "env = TictactoeEnv()"
   ]
  },
  {
   "cell_type": "code",
   "execution_count": 4,
   "id": "f10b1f3b",
   "metadata": {},
   "outputs": [],
   "source": [
    "N = 1000  # number of episodes"
   ]
  },
  {
   "cell_type": "code",
   "execution_count": 5,
   "id": "59f71c9e",
   "metadata": {},
   "outputs": [],
   "source": [
    "Q_table = np.zeros((3**9, 9))"
   ]
  },
  {
   "cell_type": "code",
   "execution_count": null,
   "id": "aaa4cad6",
   "metadata": {},
   "outputs": [],
   "source": [
    "Turns = np.array(['X','O'])\n",
    "for i in range(5):\n",
    "    env.reset()\n",
    "    grid, _, __ = env.observe()\n",
    "    Turns = Turns[np.random.permutation(2)]\n",
    "    player_opt = OptimalPlayer(epsilon=0., player=Turns[0])\n",
    "    player_rnd = OptimalPlayer(epsilon=1., player=Turns[1])\n",
    "    for j in range(9):\n",
    "        if env.current_player == player_opt.player:\n",
    "            move = player_opt.act(grid)\n",
    "        else:\n",
    "            move = player_rnd.act(grid)\n",
    "\n",
    "        grid, end, winner = env.step(move, print_grid=False)\n",
    "\n",
    "        if end:\n",
    "            print('-------------------------------------------')\n",
    "            print('Game end, winner is player ' + str(winner))\n",
    "            print('Optimal player = ' +  Turns[0])\n",
    "            print('Random player = ' +  Turns[1])\n",
    "            env.render()\n",
    "            env.reset()\n",
    "            break\n"
   ]
  },
  {
   "cell_type": "code",
   "execution_count": null,
   "id": "164e57d2",
   "metadata": {},
   "outputs": [],
   "source": [
    "class Player:\n",
    "    def __init__(mode, policy, discount):\n",
    "        self.mode = mode\n",
    "        self.policy = policy\n",
    "        self.env = TictactoeEnv()\n",
    "        self.discount = discount\n",
    "        self.\n",
    "        \n",
    "    def act():\n",
    "        ...\n",
    "    \n",
    "    def train(N, eps):\n",
    "        for i in range(N):\n",
    "            env.reset()\n",
    "            grid, _, __ = env.observe()\n",
    "            Turns = Turns[np.random.permutation(2)]\n",
    "            player_opt = OptimalPlayer(epsilon=eps., player=Turns[0])\n",
    "            end = 1\n",
    "            for j in range(9):\n",
    "                if env.current_player == player_opt.player:\n",
    "                    move = player_opt.act(grid)\n",
    "                else:\n",
    "                    move = player_rnd.act(grid)\n",
    "\n",
    "                grid, end, winner = env.step(move, print_grid=False)\n",
    "                self.update_qtable(env.reward(player))\n",
    "\n",
    "                if end:\n",
    "                    print('-------------------------------------------')\n",
    "                    print('Game end, winner is player ' + str(winner))\n",
    "                    print('Optimal player = ' +  Turns[0])\n",
    "                    print('Random player = ' +  Turns[1])\n",
    "                    env.render()\n",
    "                    env.reset()\n",
    "                    break\n",
    "\n",
    "            \n",
    "            \n",
    "        \n",
    "    def update_qtable():\n",
    "\n",
    "        \n",
    "\n",
    "    Turns = np.array(['X','O'])\n",
    "    for i in range(N):  # Run N episodes\n",
    "        env.reset()\n",
    "        grid, _, _ = env.observe()\n",
    "    "
   ]
  },
  {
   "cell_type": "code",
   "execution_count": 10,
   "id": "b5a53f61",
   "metadata": {},
   "outputs": [],
   "source": [
    "_, __  =(1,2)"
   ]
  },
  {
   "cell_type": "code",
   "execution_count": null,
   "id": "bfe50869",
   "metadata": {},
   "outputs": [],
   "source": []
  }
 ],
 "metadata": {
  "kernelspec": {
   "display_name": "Python 3 (ipykernel)",
   "language": "python",
   "name": "python3"
  },
  "language_info": {
   "codemirror_mode": {
    "name": "ipython",
    "version": 3
   },
   "file_extension": ".py",
   "mimetype": "text/x-python",
   "name": "python",
   "nbconvert_exporter": "python",
   "pygments_lexer": "ipython3",
   "version": "3.10.4"
  }
 },
 "nbformat": 4,
 "nbformat_minor": 5
}
